{
 "cells": [
  {
   "cell_type": "markdown",
   "metadata": {},
   "source": [
    "# DQN with Cartpole Environment using Tensorflow2.0 and TF-Agents\n",
    "Reference: https://www.tensorflow.org/agents/tutorials/1_dqn_tutorial"
   ]
  },
  {
   "cell_type": "code",
   "execution_count": 1,
   "metadata": {},
   "outputs": [
    {
     "data": {
      "text/html": [
       "<style> .rendered_html code { \n",
       "    padding: 2px 4px;\n",
       "    color: #c7254e;\n",
       "    background-color: #f9f2f4;\n",
       "    border-radius: 4px;\n",
       "} </style>"
      ],
      "text/plain": [
       "<IPython.core.display.HTML object>"
      ]
     },
     "execution_count": 1,
     "metadata": {},
     "output_type": "execute_result"
    }
   ],
   "source": [
    "# Bit of formatting because inline code is not styled very good by default:\n",
    "from IPython.core.display import HTML\n",
    "HTML(\"\"\"<style> .rendered_html code { \n",
    "    padding: 2px 4px;\n",
    "    color: #c7254e;\n",
    "    background-color: #f9f2f4;\n",
    "    border-radius: 4px;\n",
    "} </style>\"\"\")"
   ]
  },
  {
   "cell_type": "code",
   "execution_count": 2,
   "metadata": {},
   "outputs": [],
   "source": [
    "# Get necessary libraries\n",
    "from __future__ import absolute_import, division, print_function\n",
    "\n",
    "import base64\n",
    "import imageio\n",
    "import IPython\n",
    "import matplotlib\n",
    "import matplotlib.pyplot as plt\n",
    "import numpy as np\n",
    "import PIL.Image\n",
    "import pyvirtualdisplay\n",
    "\n",
    "import tensorflow as tf\n",
    "\n",
    "from tf_agents.agents.dqn import dqn_agent\n",
    "from tf_agents.drivers import dynamic_step_driver\n",
    "from tf_agents.environments import suite_gym\n",
    "from tf_agents.environments import tf_py_environment\n",
    "from tf_agents.eval import metric_utils\n",
    "from tf_agents.metrics import tf_metrics\n",
    "from tf_agents.networks import q_network\n",
    "from tf_agents.policies import random_tf_policy\n",
    "from tf_agents.replay_buffers import tf_uniform_replay_buffer\n",
    "from tf_agents.trajectories import trajectory\n",
    "from tf_agents.utils import common\n",
    "\n",
    "tf.compat.v1.enable_v2_behavior()"
   ]
  },
  {
   "cell_type": "markdown",
   "metadata": {},
   "source": [
    "## Step 1: Create Environment from OpenAI Gym\n",
    "\n",
    "In the Cartpole environment:\n",
    "\n",
    "-   `observation` is an array of 4 floats: \n",
    "    -   the position and velocity of the cart\n",
    "    -   the angular position and velocity of the pole \n",
    "-   `reward` is a scalar float value\n",
    "-   `action` is a scalar integer with only two possible values:\n",
    "    -   `0` — \"move left\"\n",
    "    -   `1` — \"move right\""
   ]
  },
  {
   "cell_type": "code",
   "execution_count": 3,
   "metadata": {},
   "outputs": [
    {
     "name": "stdout",
     "output_type": "stream",
     "text": [
      "Action space:  2\n",
      "Observation space:  Box(4,)\n"
     ]
    }
   ],
   "source": [
    "env_name = 'CartPole-v0'\n",
    "env = suite_gym.load(env_name)\n",
    "\n",
    "env.reset()\n",
    "#PIL.Image.fromarray(env.render())\n",
    "\n",
    "print(\"Action space: \", env.action_space.n)\n",
    "print(\"Observation space: \", env.observation_space)"
   ]
  },
  {
   "cell_type": "markdown",
   "metadata": {},
   "source": [
    "## Step 2: Convert Environment to Tensors"
   ]
  },
  {
   "cell_type": "code",
   "execution_count": 4,
   "metadata": {},
   "outputs": [],
   "source": [
    "train_py_env = suite_gym.load(env_name)\n",
    "eval_py_env = suite_gym.load(env_name)\n",
    "\n",
    "train_env = tf_py_environment.TFPyEnvironment(train_py_env)\n",
    "eval_env = tf_py_environment.TFPyEnvironment(eval_py_env)"
   ]
  },
  {
   "cell_type": "markdown",
   "metadata": {},
   "source": [
    "## Step 3: Set Hyperparameters"
   ]
  },
  {
   "cell_type": "code",
   "execution_count": 5,
   "metadata": {},
   "outputs": [],
   "source": [
    "num_iterations = 15000 \n",
    "\n",
    "initial_collect_steps = 1000 \n",
    "collect_steps_per_iteration = 1  \n",
    "replay_buffer_max_length = 100000 \n",
    "\n",
    "batch_size = 64  \n",
    "learning_rate = 1e-3  \n",
    "log_interval = 200  \n",
    "\n",
    "num_eval_episodes = 10  \n",
    "eval_interval = 1000  "
   ]
  },
  {
   "cell_type": "markdown",
   "metadata": {},
   "source": [
    "## Step 4: Define Q Network"
   ]
  },
  {
   "cell_type": "code",
   "execution_count": 6,
   "metadata": {},
   "outputs": [],
   "source": [
    "fc_layer_params = (125,)\n",
    "\n",
    "q_net = q_network.QNetwork(\n",
    "    train_env.observation_spec(),\n",
    "    train_env.action_spec(),\n",
    "    fc_layer_params=fc_layer_params)\n",
    "\n",
    "optimizer = tf.compat.v1.train.AdamOptimizer(learning_rate=learning_rate)\n",
    "\n",
    "train_step_counter = tf.Variable(0)"
   ]
  },
  {
   "cell_type": "markdown",
   "metadata": {},
   "source": [
    "## Step 5: Initialize Agent"
   ]
  },
  {
   "cell_type": "code",
   "execution_count": 7,
   "metadata": {},
   "outputs": [],
   "source": [
    "agent = dqn_agent.DqnAgent(\n",
    "    train_env.time_step_spec(),\n",
    "    train_env.action_spec(),\n",
    "    q_network=q_net,\n",
    "    optimizer=optimizer,\n",
    "    td_errors_loss_fn=common.element_wise_squared_loss,\n",
    "    train_step_counter=train_step_counter)\n",
    "\n",
    "agent.initialize()"
   ]
  },
  {
   "cell_type": "markdown",
   "metadata": {},
   "source": [
    "### Notes on Policies\n",
    "Agents contain two policies: \n",
    "\n",
    "-   `agent.policy` — The main policy that is used for evaluation and deployment.\n",
    "-   `agent.collect_policy` — A second policy that is used for data collection.\n",
    "\n",
    "To get an action from a policy, call the `policy.action(time_step)` method. The `time_step` contains the observation from the environment. This method returns a `PolicyStep`, which is a named tuple with three components:\n",
    "\n",
    "-   `action` — the action to be taken (in this case, `0` or `1`)\n",
    "-   `state` — used for stateful (that is, RNN-based) policies\n",
    "-   `info` — auxiliary data, such as log probabilities of actions"
   ]
  },
  {
   "cell_type": "code",
   "execution_count": 8,
   "metadata": {},
   "outputs": [],
   "source": [
    "eval_policy = agent.policy\n",
    "collect_policy = agent.collect_policy\n",
    "\n",
    "random_policy = random_tf_policy.RandomTFPolicy(train_env.time_step_spec(),\n",
    "                                                train_env.action_spec())"
   ]
  },
  {
   "cell_type": "markdown",
   "metadata": {},
   "source": [
    "## Step 6: Metrics and Evaluation"
   ]
  },
  {
   "cell_type": "code",
   "execution_count": 9,
   "metadata": {},
   "outputs": [],
   "source": [
    "def compute_avg_return(environment, policy, num_episodes=10):\n",
    "\n",
    "  total_return = 0.0\n",
    "  for _ in range(num_episodes):\n",
    "\n",
    "    time_step = environment.reset()\n",
    "    episode_return = 0.0\n",
    "\n",
    "    while not time_step.is_last():\n",
    "      action_step = policy.action(time_step)\n",
    "      time_step = environment.step(action_step.action)\n",
    "      episode_return += time_step.reward\n",
    "    total_return += episode_return\n",
    "\n",
    "  avg_return = total_return / num_episodes\n",
    "  return avg_return.numpy()[0]"
   ]
  },
  {
   "cell_type": "markdown",
   "metadata": {},
   "source": [
    "Running this computation on the `random_policy` shows a baseline performance in the environment."
   ]
  },
  {
   "cell_type": "code",
   "execution_count": 10,
   "metadata": {},
   "outputs": [
    {
     "data": {
      "text/plain": [
       "24.8"
      ]
     },
     "execution_count": 10,
     "metadata": {},
     "output_type": "execute_result"
    }
   ],
   "source": [
    "compute_avg_return(eval_env, random_policy, num_eval_episodes)"
   ]
  },
  {
   "cell_type": "markdown",
   "metadata": {},
   "source": [
    "## Step 7: Replay Buffer"
   ]
  },
  {
   "cell_type": "code",
   "execution_count": 11,
   "metadata": {},
   "outputs": [],
   "source": [
    "replay_buffer = tf_uniform_replay_buffer.TFUniformReplayBuffer(\n",
    "    data_spec=agent.collect_data_spec,\n",
    "    batch_size=train_env.batch_size,\n",
    "    max_length=replay_buffer_max_length)"
   ]
  },
  {
   "cell_type": "markdown",
   "metadata": {},
   "source": [
    "## Step 8: Data Collection"
   ]
  },
  {
   "cell_type": "code",
   "execution_count": 12,
   "metadata": {},
   "outputs": [],
   "source": [
    "def collect_step(environment, policy, buffer):\n",
    "  time_step = environment.current_time_step()\n",
    "  action_step = policy.action(time_step)\n",
    "  next_time_step = environment.step(action_step.action)\n",
    "  traj = trajectory.from_transition(time_step, action_step, next_time_step)\n",
    "\n",
    "  # Add trajectory to the replay buffer\n",
    "  buffer.add_batch(traj)\n",
    "\n",
    "def collect_data(env, policy, buffer, steps):\n",
    "  for _ in range(steps):\n",
    "    collect_step(env, policy, buffer)\n",
    "\n",
    "collect_data(train_env, random_policy, replay_buffer, steps=100)\n",
    "\n",
    "dataset = replay_buffer.as_dataset(\n",
    "    num_parallel_calls=3, \n",
    "    sample_batch_size=batch_size, \n",
    "    num_steps=2).prefetch(3)\n",
    "\n",
    "iterator = iter(dataset)"
   ]
  },
  {
   "cell_type": "markdown",
   "metadata": {},
   "source": [
    "## Step 9: Train Agent"
   ]
  },
  {
   "cell_type": "code",
   "execution_count": 13,
   "metadata": {},
   "outputs": [
    {
     "name": "stdout",
     "output_type": "stream",
     "text": [
      "step = 200: loss = 15.150442123413086\n",
      "step = 400: loss = 20.40174102783203\n",
      "step = 600: loss = 13.647122383117676\n",
      "step = 800: loss = 13.245473861694336\n",
      "step = 1000: loss = 14.415736198425293\n",
      "step = 1000: Average Return = 43.599998474121094\n",
      "step = 1200: loss = 122.52113342285156\n",
      "step = 1400: loss = 188.23561096191406\n",
      "step = 1600: loss = 288.9738464355469\n",
      "step = 1800: loss = 95.9398422241211\n",
      "step = 2000: loss = 139.95779418945312\n",
      "step = 2000: Average Return = 22.100000381469727\n",
      "step = 2200: loss = 85.24249267578125\n",
      "step = 2400: loss = 121.71351623535156\n",
      "step = 2600: loss = 63.47970962524414\n",
      "step = 2800: loss = 48.99771499633789\n",
      "step = 3000: loss = 100.18370819091797\n",
      "step = 3000: Average Return = 81.30000305175781\n",
      "step = 3200: loss = 52.11915969848633\n",
      "step = 3400: loss = 62.45425033569336\n",
      "step = 3600: loss = 56.976959228515625\n",
      "step = 3800: loss = 4.921647071838379\n",
      "step = 4000: loss = 5.179783821105957\n",
      "step = 4000: Average Return = 48.20000076293945\n",
      "step = 4200: loss = 40.803199768066406\n",
      "step = 4400: loss = 131.47760009765625\n",
      "step = 4600: loss = 4.491680145263672\n",
      "step = 4800: loss = 57.769874572753906\n",
      "step = 5000: loss = 124.50514221191406\n",
      "step = 5000: Average Return = 85.0999984741211\n",
      "step = 5200: loss = 135.91297912597656\n",
      "step = 5400: loss = 8.887540817260742\n",
      "step = 5600: loss = 12.816462516784668\n",
      "step = 5800: loss = 157.94618225097656\n",
      "step = 6000: loss = 21.55792808532715\n",
      "step = 6000: Average Return = 200.0\n",
      "step = 6200: loss = 28.984851837158203\n",
      "step = 6400: loss = 169.04638671875\n",
      "step = 6600: loss = 248.27304077148438\n",
      "step = 6800: loss = 11.809694290161133\n",
      "step = 7000: loss = 643.1278076171875\n",
      "step = 7000: Average Return = 199.6999969482422\n",
      "step = 7200: loss = 146.0859375\n",
      "step = 7400: loss = 207.4875946044922\n",
      "step = 7600: loss = 53.133663177490234\n",
      "step = 7800: loss = 16.394662857055664\n",
      "step = 8000: loss = 116.83348846435547\n",
      "step = 8000: Average Return = 200.0\n",
      "step = 8200: loss = 31.122583389282227\n",
      "step = 8400: loss = 12.55440616607666\n",
      "step = 8600: loss = 217.99484252929688\n",
      "step = 8800: loss = 224.41062927246094\n",
      "step = 9000: loss = 12.591043472290039\n",
      "step = 9000: Average Return = 200.0\n",
      "step = 9200: loss = 116.27761840820312\n",
      "step = 9400: loss = 365.769775390625\n",
      "step = 9600: loss = 1179.528564453125\n",
      "step = 9800: loss = 37.580108642578125\n",
      "step = 10000: loss = 906.8772583007812\n",
      "step = 10000: Average Return = 198.89999389648438\n",
      "step = 10200: loss = 31.5924015045166\n",
      "step = 10400: loss = 648.923095703125\n",
      "step = 10600: loss = 403.9491271972656\n",
      "step = 10800: loss = 362.6095886230469\n",
      "step = 11000: loss = 15.318143844604492\n",
      "step = 11000: Average Return = 184.5\n",
      "step = 11200: loss = 2590.6953125\n",
      "step = 11400: loss = 378.6700744628906\n",
      "step = 11600: loss = 1308.1025390625\n",
      "step = 11800: loss = 24.335899353027344\n",
      "step = 12000: loss = 29.831172943115234\n",
      "step = 12000: Average Return = 186.39999389648438\n",
      "step = 12200: loss = 189.6108856201172\n",
      "step = 12400: loss = 855.4194946289062\n",
      "step = 12600: loss = 33.140045166015625\n",
      "step = 12800: loss = 650.3893432617188\n",
      "step = 13000: loss = 25.13222885131836\n",
      "step = 13000: Average Return = 200.0\n",
      "step = 13200: loss = 50.57957458496094\n",
      "step = 13400: loss = 1880.724609375\n",
      "step = 13600: loss = 44.67557907104492\n",
      "step = 13800: loss = 1944.9739990234375\n",
      "step = 14000: loss = 720.7398071289062\n",
      "step = 14000: Average Return = 200.0\n",
      "step = 14200: loss = 38.58740234375\n",
      "step = 14400: loss = 42.43824005126953\n",
      "step = 14600: loss = 42.96366882324219\n",
      "step = 14800: loss = 1106.3768310546875\n",
      "step = 15000: loss = 30.562957763671875\n",
      "step = 15000: Average Return = 200.0\n"
     ]
    }
   ],
   "source": [
    "# (Optional) Optimize by wrapping some of the code in a graph using TF function.\n",
    "agent.train = common.function(agent.train)\n",
    "\n",
    "# Reset the train step\n",
    "agent.train_step_counter.assign(0)\n",
    "\n",
    "# Evaluate the agent's policy once before training.\n",
    "avg_return = compute_avg_return(eval_env, agent.policy, num_eval_episodes)\n",
    "returns = [avg_return]\n",
    "\n",
    "for _ in range(num_iterations):\n",
    "\n",
    "  # Collect a few steps using collect_policy and save to the replay buffer.\n",
    "  for _ in range(collect_steps_per_iteration):\n",
    "    collect_step(train_env, agent.collect_policy, replay_buffer)\n",
    "\n",
    "  # Sample a batch of data from the buffer and update the agent's network.\n",
    "  experience, unused_info = next(iterator)\n",
    "  train_loss = agent.train(experience).loss\n",
    "\n",
    "  step = agent.train_step_counter.numpy()\n",
    "\n",
    "  if step % log_interval == 0:\n",
    "    print('step = {0}: loss = {1}'.format(step, train_loss))\n",
    "\n",
    "  if step % eval_interval == 0:\n",
    "    avg_return = compute_avg_return(eval_env, agent.policy, num_eval_episodes)\n",
    "    print('step = {0}: Average Return = {1}'.format(step, avg_return))\n",
    "    returns.append(avg_return)"
   ]
  },
  {
   "cell_type": "markdown",
   "metadata": {},
   "source": [
    "## Step 10: Visualize"
   ]
  },
  {
   "cell_type": "code",
   "execution_count": 14,
   "metadata": {},
   "outputs": [
    {
     "data": {
      "text/plain": [
       "(-0.1300004005432136, 250.0)"
      ]
     },
     "execution_count": 14,
     "metadata": {},
     "output_type": "execute_result"
    },
    {
     "data": {
      "image/png": "[encoded data removed]",
      "text/plain": [
       "<Figure size 432x288 with 1 Axes>"
      ]
     },
     "metadata": {
      "needs_background": "light"
     },
     "output_type": "display_data"
    }
   ],
   "source": [
    "iterations = range(0, num_iterations + 1, eval_interval)\n",
    "plt.plot(iterations, returns)\n",
    "plt.ylabel('Average Return')\n",
    "plt.xlabel('Iterations')\n",
    "plt.ylim(top=250)"
   ]
  },
  {
   "cell_type": "code",
   "execution_count": 15,
   "metadata": {},
   "outputs": [
    {
     "name": "stderr",
     "output_type": "stream",
     "text": [
      "IMAGEIO FFMPEG_WRITER WARNING: input image is not divisible by macro_block_size=16, resizing from (600, 400) to (608, 400) to ensure video compatibility with most codecs and players. To prevent resizing, make your input image divisible by the macro_block_size or set the macro_block_size to 1 (risking incompatibility).\n"
     ]
    },
    {
     "data": {
      "text/html": [
       "\n",
       "  <video width=\"608\" height=\"400\" controls>\n",
       "    <source src=\"data:video/mp4;base64,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\" type=\"video/mp4\">\n",
       "  Your browser does not support the video tag.\n",
       "  </video>"
      ],
      "text/plain": [
       "<IPython.core.display.HTML object>"
      ]
     },
     "execution_count": 15,
     "metadata": {},
     "output_type": "execute_result"
    }
   ],
   "source": [
    "def embed_mp4(filename):\n",
    "  \"\"\"Embeds an mp4 file in the notebook.\"\"\"\n",
    "  video = open(filename,'rb').read()\n",
    "  b64 = base64.b64encode(video)\n",
    "  tag = '''\n",
    "  <video width=\"608\" height=\"400\" controls>\n",
    "    <source src=\"data:video/mp4;base64,{0}\" type=\"video/mp4\">\n",
    "  Your browser does not support the video tag.\n",
    "  </video>'''.format(b64.decode())\n",
    "\n",
    "  return IPython.display.HTML(tag)\n",
    "\n",
    "def create_policy_eval_video(policy, filename, num_episodes=3, fps=30):\n",
    "  filename = filename + \".mp4\"\n",
    "  with imageio.get_writer(filename, fps=fps) as video:\n",
    "    for _ in range(num_episodes):\n",
    "      time_step = eval_env.reset()\n",
    "      video.append_data(eval_py_env.render())\n",
    "      while not time_step.is_last():\n",
    "        action_step = policy.action(time_step)\n",
    "        time_step = eval_env.step(action_step.action)\n",
    "        video.append_data(eval_py_env.render())\n",
    "  return embed_mp4(filename)\n",
    "\n",
    "\n",
    "create_policy_eval_video(agent.policy, \"trained-agent\")"
   ]
  },
  {
   "cell_type": "code",
   "execution_count": 16,
   "metadata": {},
   "outputs": [
    {
     "name": "stderr",
     "output_type": "stream",
     "text": [
      "IMAGEIO FFMPEG_WRITER WARNING: input image is not divisible by macro_block_size=16, resizing from (600, 400) to (608, 400) to ensure video compatibility with most codecs and players. To prevent resizing, make your input image divisible by the macro_block_size or set the macro_block_size to 1 (risking incompatibility).\n"
     ]
    },
    {
     "data": {
      "text/html": [
       "\n",
       "  <video width=\"608\" height=\"400\" controls>\n",
       "    <source src=\"data:video/mp4;base64,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\" type=\"video/mp4\">\n",
       "  Your browser does not support the video tag.\n",
       "  </video>"
      ],
      "text/plain": [
       "<IPython.core.display.HTML object>"
      ]
     },
     "execution_count": 16,
     "metadata": {},
     "output_type": "execute_result"
    }
   ],
   "source": [
    "create_policy_eval_video(random_policy, \"random-agent\")"
   ]
  }
 ],
 "metadata": {
  "kernelspec": {
   "display_name": "RLv2",
   "language": "python",
   "name": "rlv2"
  },
  "language_info": {
   "codemirror_mode": {
    "name": "ipython",
    "version": 3
   },
   "file_extension": ".py",
   "mimetype": "text/x-python",
   "name": "python",
   "nbconvert_exporter": "python",
   "pygments_lexer": "ipython3",
   "version": "3.8.4"
  }
 },
 "nbformat": 4,
 "nbformat_minor": 2
}
